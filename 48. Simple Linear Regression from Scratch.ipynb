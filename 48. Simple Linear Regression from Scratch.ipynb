{
 "cells": [
  {
   "cell_type": "code",
   "execution_count": 1,
   "id": "161e9419",
   "metadata": {},
   "outputs": [],
   "source": [
    "import numpy as np\n",
    "import pandas as pd"
   ]
  },
  {
   "cell_type": "code",
   "execution_count": 2,
   "id": "de00f605",
   "metadata": {},
   "outputs": [],
   "source": [
    "df = pd.read_csv(r'placement (1).csv')"
   ]
  },
  {
   "cell_type": "code",
   "execution_count": 41,
   "id": "85b74823",
   "metadata": {},
   "outputs": [],
   "source": [
    "x = df.iloc[:, 0].to_numpy()\n",
    "y = df.iloc[:, -1].to_numpy()"
   ]
  },
  {
   "cell_type": "code",
   "execution_count": 42,
   "id": "b505262b",
   "metadata": {},
   "outputs": [],
   "source": [
    "from sklearn.model_selection import train_test_split"
   ]
  },
  {
   "cell_type": "code",
   "execution_count": 47,
   "id": "60cb1c84",
   "metadata": {},
   "outputs": [],
   "source": [
    "x_train, x_train, y_test, y_test = train_test_split(x, y, test_size=0.2, random_state=2)"
   ]
  },
  {
   "cell_type": "code",
   "execution_count": 65,
   "id": "60022af9",
   "metadata": {},
   "outputs": [],
   "source": [
    "class MyLR:\n",
    "\n",
    "    def __init__(self):\n",
    "        self.m = None\n",
    "        self.c = None\n",
    "\n",
    "    def fit(self, x_train, y_train):\n",
    "\n",
    "        num = 0\n",
    "        den = 0\n",
    "\n",
    "        for i in range(len(x_train)):\n",
    "\n",
    "            num = num + (x_train[i] - x_train.mean()) * (y_train[i] - y_train.mean())\n",
    "            den = den + (x_train[i] - x_train.mean()) * (x_train[i] - x_train.mean())\n",
    "\n",
    "        self.m = num / den\n",
    "        self.c = y_train.mean() - (self.m * x_train.mean())\n",
    "\n",
    "        print(self.m)\n",
    "        print(self.c)\n",
    "\n",
    "    def predict(self, x_test):\n",
    "        \n",
    "        return self.m * x_test + self.c\n",
    "\n"
   ]
  },
  {
   "cell_type": "code",
   "execution_count": 66,
   "id": "03261b9a",
   "metadata": {},
   "outputs": [],
   "source": [
    "lr = MyLR()"
   ]
  },
  {
   "cell_type": "code",
   "execution_count": 67,
   "id": "dce43e66",
   "metadata": {},
   "outputs": [
    {
     "name": "stdout",
     "output_type": "stream",
     "text": [
      "0.0229101110699302\n",
      "6.603295320815744\n"
     ]
    }
   ],
   "source": [
    "lr.fit(x_train, y_train)"
   ]
  },
  {
   "cell_type": "code",
   "execution_count": 70,
   "id": "22419123",
   "metadata": {},
   "outputs": [],
   "source": [
    "y_pred = lr.predict(x_test)"
   ]
  },
  {
   "cell_type": "code",
   "execution_count": 71,
   "id": "ed2a9d28",
   "metadata": {},
   "outputs": [
    {
     "data": {
      "text/plain": [
       "array([6.66813094, 6.6406388 , 6.6816479 , 6.65759228, 6.68393891,\n",
       "       6.70066329, 6.65621768, 6.67844049, 6.66927644, 6.63857689,\n",
       "       6.67981509, 6.65621768, 6.67523307, 6.66836004, 6.68737543,\n",
       "       6.66538172, 6.67798228, 6.67042195, 6.69539397, 6.66606903,\n",
       "       6.64934464, 6.66309071, 6.69241565, 6.66813094, 6.69470666,\n",
       "       6.69493577, 6.67408756, 6.69287386, 6.69012464, 6.66675633,\n",
       "       6.65827959, 6.66423622, 6.67500397, 6.68393891, 6.65873779,\n",
       "       6.66561082, 6.69631037, 6.6816479 , 6.65278116, 6.67614947,\n",
       "       6.65919599, 6.65507217, 6.69241565, 6.65965419, 6.68439711,\n",
       "       6.65117745, 6.67775318, 6.67912779, 6.65140655, 6.67752408,\n",
       "       6.66652723, 6.64590813, 6.68737543, 6.69562307, 6.66217431,\n",
       "       6.68645902, 6.68348071, 6.66286161, 6.67385846, 6.69722678,\n",
       "       6.67294206, 6.68302251, 6.70478711, 6.67798228, 6.65873779,\n",
       "       6.68943734, 6.66721453, 6.67019285, 6.68577172, 6.66515262,\n",
       "       6.67065105, 6.70914003, 6.69699768, 6.63720229, 6.66950554,\n",
       "       6.67958599, 6.6601124 , 6.68279341, 6.66286161, 6.67569127,\n",
       "       6.67729498, 6.65392667, 6.68897914, 6.69745588, 6.69814318,\n",
       "       6.67546217, 6.68737543, 6.67958599, 6.69081195, 6.69401936,\n",
       "       6.66286161, 6.67179655, 6.63834779, 6.67248386, 6.67408756,\n",
       "       6.68943734, 6.67500397, 6.65232296, 6.65667588, 6.66286161,\n",
       "       6.66400712, 6.63468217, 6.66904734, 6.64774094, 6.69058284,\n",
       "       6.64865734, 6.64292981, 6.6617161 , 6.661487  , 6.66790183,\n",
       "       6.6601124 , 6.66194521, 6.65117745, 6.70318341, 6.66240341,\n",
       "       6.66309071, 6.66515262, 6.67981509, 6.6816479 , 6.65461397,\n",
       "       6.64613723, 6.66652723, 6.69241565, 6.69447756, 6.67454577,\n",
       "       6.67729498, 6.67385846, 6.67294206, 6.70341251, 6.65392667,\n",
       "       6.68325161, 6.67752408, 6.65301026, 6.67202565, 6.69974689,\n",
       "       6.6811897 , 6.64774094, 6.68622992, 6.70868183, 6.68691723,\n",
       "       6.69676857, 6.65369757, 6.67385846, 6.67179655, 6.66492352,\n",
       "       6.67958599, 6.67408756, 6.67546217, 6.63720229, 6.65713408,\n",
       "       6.68462622, 6.66836004, 6.67042195, 6.68370981, 6.67202565,\n",
       "       6.66950554, 6.68920824, 6.67179655, 6.67798228, 6.6607997 ])"
      ]
     },
     "execution_count": 71,
     "metadata": {},
     "output_type": "execute_result"
    }
   ],
   "source": [
    "y_pred"
   ]
  },
  {
   "cell_type": "code",
   "execution_count": null,
   "id": "37f76942",
   "metadata": {},
   "outputs": [],
   "source": []
  }
 ],
 "metadata": {
  "kernelspec": {
   "display_name": "base",
   "language": "python",
   "name": "python3"
  },
  "language_info": {
   "codemirror_mode": {
    "name": "ipython",
    "version": 3
   },
   "file_extension": ".py",
   "mimetype": "text/x-python",
   "name": "python",
   "nbconvert_exporter": "python",
   "pygments_lexer": "ipython3",
   "version": "3.12.7"
  }
 },
 "nbformat": 4,
 "nbformat_minor": 5
}
